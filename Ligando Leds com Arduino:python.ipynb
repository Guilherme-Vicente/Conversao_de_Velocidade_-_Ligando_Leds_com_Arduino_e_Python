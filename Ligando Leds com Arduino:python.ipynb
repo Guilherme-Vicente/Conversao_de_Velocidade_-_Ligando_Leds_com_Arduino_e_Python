{
 "cells": [
  {
   "cell_type": "code",
   "execution_count": 1,
   "metadata": {},
   "outputs": [
    {
     "name": "stdout",
     "output_type": "stream",
     "text": [
      "Requirement already satisfied: pyfirmata in ./opt/anaconda3/lib/python3.7/site-packages (1.1.0)\n",
      "Requirement already satisfied: pyserial in ./opt/anaconda3/lib/python3.7/site-packages (from pyfirmata) (3.5)\n",
      "\u001b[33mWARNING: You are using pip version 20.0.2; however, version 21.0.1 is available.\n",
      "You should consider upgrading via the '/Users/guilherme/opt/anaconda3/bin/python -m pip install --upgrade pip' command.\u001b[0m\n",
      "Note: you may need to restart the kernel to use updated packages.\n"
     ]
    }
   ],
   "source": [
    "pip install pyfirmata"
   ]
  },
  {
   "cell_type": "code",
   "execution_count": 2,
   "metadata": {},
   "outputs": [],
   "source": [
    "from pyfirmata import Arduino, util\n",
    "import time"
   ]
  },
  {
   "cell_type": "code",
   "execution_count": 3,
   "metadata": {},
   "outputs": [],
   "source": [
    "def print_menu():\n",
    "    print('1. Ligar o primeiro Led')\n",
    "    print('2. Ligar o segunda Led')\n",
    "    print('3. Ligar o terceiro Led')"
   ]
  },
  {
   "cell_type": "code",
   "execution_count": null,
   "metadata": {},
   "outputs": [],
   "source": [
    "Uno = Arduino('COM12')"
   ]
  },
  {
   "cell_type": "code",
   "execution_count": null,
   "metadata": {},
   "outputs": [],
   "source": [
    "\n",
    "def botoes():\n",
    "    Uno = Arduino('COM12')\n",
    "\n",
    "    \n",
    "if _name_ == '_main_':\n",
    "    print_menu()\n",
    "    choice = input('Qual Botao/numero voce gostaria ?: ')\n",
    "    if choice == '1':\n",
    "        Uno.digital[9].write(1)         \n",
    "    print('LED ligado')              \n",
    "    time.sleep(10)                    \n",
    "\n",
    "    Uno.digital[9].write(0)         \n",
    "    print('LED desligado')           \n",
    "    time.sleep(10)\n",
    "    if choice == '2':\n",
    "              Uno.digital[10].write(1)         \n",
    "    print('LED ligado')              \n",
    "    time.sleep(10)                    \n",
    "\n",
    "    Uno.digital[10].write(0)         \n",
    "    print('LED desligado')           \n",
    "    time.sleep(10)\n",
    "    if choice == '3':\n",
    "              Uno.digital[11].write(1)         \n",
    "    print('LED ligado')              \n",
    "    time.sleep(10)                    \n",
    "\n",
    "    Uno.digital[11].write(0)         \n",
    "    print('LED desligado')           \n",
    "    time.sleep(10)\n",
    "    return"
   ]
  }
 ],
 "metadata": {
  "kernelspec": {
   "display_name": "Python 3",
   "language": "python",
   "name": "python3"
  },
  "language_info": {
   "codemirror_mode": {
    "name": "ipython",
    "version": 3
   },
   "file_extension": ".py",
   "mimetype": "text/x-python",
   "name": "python",
   "nbconvert_exporter": "python",
   "pygments_lexer": "ipython3",
   "version": "3.7.4"
  }
 },
 "nbformat": 4,
 "nbformat_minor": 2
}
